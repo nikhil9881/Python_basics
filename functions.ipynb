{
 "cells": [
  {
   "cell_type": "code",
   "execution_count": 17,
   "id": "f57e04c1",
   "metadata": {},
   "outputs": [],
   "source": [
    "p = [500, 1200, 4000, 5000]\n",
    "abc = [240, 450, 4590, 5984]"
   ]
  },
  {
   "cell_type": "code",
   "execution_count": 6,
   "id": "6325e77f",
   "metadata": {},
   "outputs": [
    {
     "name": "stdout",
     "output_type": "stream",
     "text": [
      "1000\n",
      "2400\n",
      "8000\n",
      "10000\n"
     ]
    }
   ],
   "source": [
    "for i in p:\n",
    "    print(i*2)"
   ]
  },
  {
   "cell_type": "code",
   "execution_count": 7,
   "id": "c7ee230c",
   "metadata": {},
   "outputs": [
    {
     "name": "stdout",
     "output_type": "stream",
     "text": [
      "10700\n"
     ]
    }
   ],
   "source": [
    "total_expence = 0\n",
    "for i in p:\n",
    "   # print(i)\n",
    "    total_expence = total_expence + i\n",
    "print(total_expence)"
   ]
  },
  {
   "cell_type": "raw",
   "id": "c08d8c23",
   "metadata": {},
   "source": [
    "defination, execution, calling"
   ]
  },
  {
   "cell_type": "raw",
   "id": "41c570c1",
   "metadata": {},
   "source": [
    "def funtion_name(): \n",
    "    #logic\n",
    "function_name()"
   ]
  },
  {
   "cell_type": "code",
   "execution_count": 18,
   "id": "9f43c0c5",
   "metadata": {},
   "outputs": [],
   "source": [
    "def total_expense(name):\n",
    "    total_expence = 0\n",
    "    for i in name:\n",
    "        total_expence += i\n",
    "    print(total_expence)"
   ]
  },
  {
   "cell_type": "code",
   "execution_count": 20,
   "id": "d508df4c",
   "metadata": {},
   "outputs": [
    {
     "name": "stdout",
     "output_type": "stream",
     "text": [
      "11264\n"
     ]
    }
   ],
   "source": [
    "total_expense(abc)"
   ]
  },
  {
   "cell_type": "code",
   "execution_count": 21,
   "id": "ff6b8420",
   "metadata": {},
   "outputs": [],
   "source": [
    "def sum(a, b):\n",
    "    print(a + b)"
   ]
  },
  {
   "cell_type": "code",
   "execution_count": 22,
   "id": "9fb7935d",
   "metadata": {},
   "outputs": [
    {
     "name": "stdout",
     "output_type": "stream",
     "text": [
      "90\n"
     ]
    }
   ],
   "source": [
    "sum(40, 50)"
   ]
  },
  {
   "cell_type": "code",
   "execution_count": 23,
   "id": "d9096a7c",
   "metadata": {},
   "outputs": [],
   "source": [
    "def add(*a):\n",
    "    return a"
   ]
  },
  {
   "cell_type": "code",
   "execution_count": 24,
   "id": "36d10a33",
   "metadata": {},
   "outputs": [
    {
     "data": {
      "text/plain": [
       "(1, 2, 3, 4, 5)"
      ]
     },
     "execution_count": 24,
     "metadata": {},
     "output_type": "execute_result"
    }
   ],
   "source": [
    "add(1, 2, 3, 4, 5)"
   ]
  },
  {
   "cell_type": "raw",
   "id": "603d0a83",
   "metadata": {},
   "source": [
    "*a = *args - multiple argument\n",
    "**kwargs - keyword argument - key-value"
   ]
  },
  {
   "cell_type": "code",
   "execution_count": 25,
   "id": "9b1d6d8d",
   "metadata": {},
   "outputs": [],
   "source": [
    "def test(**info):\n",
    "    return info"
   ]
  },
  {
   "cell_type": "code",
   "execution_count": 26,
   "id": "699f2c98",
   "metadata": {},
   "outputs": [
    {
     "data": {
      "text/plain": [
       "{'name': 'abc', 'skills': ['python', 'c']}"
      ]
     },
     "execution_count": 26,
     "metadata": {},
     "output_type": "execute_result"
    }
   ],
   "source": [
    "test(name = \"abc\", skills = [\"python\", \"c\"])"
   ]
  },
  {
   "cell_type": "raw",
   "id": "b2727d00",
   "metadata": {},
   "source": [
    "function with paramerter\n",
    "function with no paramerter\n",
    "function with default parameter\n",
    "function with return parameter"
   ]
  },
  {
   "cell_type": "code",
   "execution_count": 27,
   "id": "47e914ec",
   "metadata": {},
   "outputs": [],
   "source": [
    "def test():\n",
    "    print(\"this is function with no parameter\")"
   ]
  },
  {
   "cell_type": "code",
   "execution_count": 28,
   "id": "489c1836",
   "metadata": {},
   "outputs": [
    {
     "name": "stdout",
     "output_type": "stream",
     "text": [
      "this is function with no parameter\n"
     ]
    }
   ],
   "source": [
    "test()"
   ]
  },
  {
   "cell_type": "code",
   "execution_count": 31,
   "id": "5c20713a",
   "metadata": {},
   "outputs": [],
   "source": [
    "def test1(a = 10 , b = 20):\n",
    "    print(\"value of a : \", a)\n",
    "    print(\"value of a : \", b)"
   ]
  },
  {
   "cell_type": "code",
   "execution_count": 32,
   "id": "e622c137",
   "metadata": {},
   "outputs": [
    {
     "name": "stdout",
     "output_type": "stream",
     "text": [
      "value of a :  10\n",
      "value of a :  20\n"
     ]
    }
   ],
   "source": [
    "test1()"
   ]
  },
  {
   "cell_type": "code",
   "execution_count": 33,
   "id": "a166b1f7",
   "metadata": {},
   "outputs": [],
   "source": [
    "x = lambda a, b : a + b"
   ]
  },
  {
   "cell_type": "code",
   "execution_count": 35,
   "id": "5956ad26",
   "metadata": {},
   "outputs": [
    {
     "data": {
      "text/plain": [
       "30"
      ]
     },
     "execution_count": 35,
     "metadata": {},
     "output_type": "execute_result"
    }
   ],
   "source": [
    "x(10, 20)"
   ]
  },
  {
   "cell_type": "code",
   "execution_count": 36,
   "id": "dfd48cba",
   "metadata": {},
   "outputs": [],
   "source": [
    "x = lambda a : a**2"
   ]
  },
  {
   "cell_type": "code",
   "execution_count": 37,
   "id": "27b395fa",
   "metadata": {},
   "outputs": [
    {
     "data": {
      "text/plain": [
       "144"
      ]
     },
     "execution_count": 37,
     "metadata": {},
     "output_type": "execute_result"
    }
   ],
   "source": [
    "x(12)"
   ]
  },
  {
   "cell_type": "raw",
   "id": "aef9b440",
   "metadata": {},
   "source": [
    "local variavble - local scope - within function\n",
    "global variable - global"
   ]
  },
  {
   "cell_type": "code",
   "execution_count": 39,
   "id": "f1c6ece5",
   "metadata": {},
   "outputs": [
    {
     "name": "stdout",
     "output_type": "stream",
     "text": [
      "10\n"
     ]
    }
   ],
   "source": [
    "a = 10 \n",
    "def add(s):\n",
    "    print(s)\n",
    "add(a)"
   ]
  },
  {
   "cell_type": "code",
   "execution_count": 40,
   "id": "d08ebbef",
   "metadata": {},
   "outputs": [
    {
     "name": "stdout",
     "output_type": "stream",
     "text": [
      "10\n"
     ]
    }
   ],
   "source": [
    "def test():\n",
    "    ab = 10\n",
    "    print(ab)\n",
    "test()\n",
    "    "
   ]
  },
  {
   "cell_type": "raw",
   "id": "4ebceb1d",
   "metadata": {},
   "source": [
    "list comperhension"
   ]
  },
  {
   "cell_type": "code",
   "execution_count": 41,
   "id": "1bc18444",
   "metadata": {},
   "outputs": [],
   "source": [
    "t = (1, 2, 3, 4, 5, 6)"
   ]
  },
  {
   "cell_type": "code",
   "execution_count": 42,
   "id": "cbcea846",
   "metadata": {},
   "outputs": [
    {
     "data": {
      "text/plain": [
       "[1, 2, 3, 4, 5, 6]"
      ]
     },
     "execution_count": 42,
     "metadata": {},
     "output_type": "execute_result"
    }
   ],
   "source": [
    "[i for i in t]"
   ]
  },
  {
   "cell_type": "code",
   "execution_count": 43,
   "id": "5c38da13",
   "metadata": {},
   "outputs": [
    {
     "data": {
      "text/plain": [
       "[1, 4, 9, 16, 25, 36]"
      ]
     },
     "execution_count": 43,
     "metadata": {},
     "output_type": "execute_result"
    }
   ],
   "source": [
    "[i**2 for i in t]"
   ]
  },
  {
   "cell_type": "code",
   "execution_count": null,
   "id": "93ef2b4b",
   "metadata": {},
   "outputs": [],
   "source": [
    " "
   ]
  }
 ],
 "metadata": {
  "kernelspec": {
   "display_name": "Python 3 (ipykernel)",
   "language": "python",
   "name": "python3"
  },
  "language_info": {
   "codemirror_mode": {
    "name": "ipython",
    "version": 3
   },
   "file_extension": ".py",
   "mimetype": "text/x-python",
   "name": "python",
   "nbconvert_exporter": "python",
   "pygments_lexer": "ipython3",
   "version": "3.11.4"
  }
 },
 "nbformat": 4,
 "nbformat_minor": 5
}
