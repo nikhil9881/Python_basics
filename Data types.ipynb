{
 "cells": [
  {
   "cell_type": "raw",
   "id": "1a6805e2",
   "metadata": {},
   "source": [
    "String\n",
    "Integer\n",
    "Float\n",
    "Set\n",
    "List\n",
    "Tuple\n",
    "Dictionary\n",
    "Boolean\n",
    "Complex"
   ]
  },
  {
   "cell_type": "code",
   "execution_count": 1,
   "id": "41f28c13",
   "metadata": {},
   "outputs": [],
   "source": [
    "a = \"python\""
   ]
  },
  {
   "cell_type": "code",
   "execution_count": 2,
   "id": "35a9561c",
   "metadata": {},
   "outputs": [
    {
     "data": {
      "text/plain": [
       "str"
      ]
     },
     "execution_count": 2,
     "metadata": {},
     "output_type": "execute_result"
    }
   ],
   "source": [
    "type(a)"
   ]
  },
  {
   "cell_type": "code",
   "execution_count": 3,
   "id": "28636903",
   "metadata": {},
   "outputs": [],
   "source": [
    "a = True"
   ]
  },
  {
   "cell_type": "code",
   "execution_count": 4,
   "id": "3e9ecdc1",
   "metadata": {},
   "outputs": [
    {
     "data": {
      "text/plain": [
       "bool"
      ]
     },
     "execution_count": 4,
     "metadata": {},
     "output_type": "execute_result"
    }
   ],
   "source": [
    "type(a)"
   ]
  },
  {
   "cell_type": "code",
   "execution_count": 5,
   "id": "35b278a2",
   "metadata": {},
   "outputs": [],
   "source": [
    "a = 7 + 4j"
   ]
  },
  {
   "cell_type": "code",
   "execution_count": 6,
   "id": "8644d63e",
   "metadata": {},
   "outputs": [
    {
     "data": {
      "text/plain": [
       "complex"
      ]
     },
     "execution_count": 6,
     "metadata": {},
     "output_type": "execute_result"
    }
   ],
   "source": [
    "type(a)"
   ]
  },
  {
   "cell_type": "code",
   "execution_count": 7,
   "id": "36e81fab",
   "metadata": {},
   "outputs": [
    {
     "data": {
      "text/plain": [
       "4.0"
      ]
     },
     "execution_count": 7,
     "metadata": {},
     "output_type": "execute_result"
    }
   ],
   "source": [
    "a.imag"
   ]
  },
  {
   "cell_type": "code",
   "execution_count": 8,
   "id": "8c9853a1",
   "metadata": {},
   "outputs": [
    {
     "data": {
      "text/plain": [
       "7.0"
      ]
     },
     "execution_count": 8,
     "metadata": {},
     "output_type": "execute_result"
    }
   ],
   "source": [
    "a.real"
   ]
  },
  {
   "cell_type": "code",
   "execution_count": 9,
   "id": "78d6c919",
   "metadata": {},
   "outputs": [],
   "source": [
    "l = []"
   ]
  },
  {
   "cell_type": "code",
   "execution_count": 10,
   "id": "1fa7fe64",
   "metadata": {},
   "outputs": [
    {
     "data": {
      "text/plain": [
       "list"
      ]
     },
     "execution_count": 10,
     "metadata": {},
     "output_type": "execute_result"
    }
   ],
   "source": [
    "type(l)"
   ]
  },
  {
   "cell_type": "code",
   "execution_count": 12,
   "id": "779ec1b1",
   "metadata": {},
   "outputs": [],
   "source": [
    "l = [12, True, 124.5, 5+5j, \"python\" ]"
   ]
  },
  {
   "cell_type": "code",
   "execution_count": 13,
   "id": "090cc609",
   "metadata": {},
   "outputs": [
    {
     "data": {
      "text/plain": [
       "5"
      ]
     },
     "execution_count": 13,
     "metadata": {},
     "output_type": "execute_result"
    }
   ],
   "source": [
    "len(l)"
   ]
  },
  {
   "cell_type": "code",
   "execution_count": 14,
   "id": "94505df8",
   "metadata": {},
   "outputs": [],
   "source": [
    "t = ()"
   ]
  },
  {
   "cell_type": "code",
   "execution_count": 15,
   "id": "897fd73b",
   "metadata": {},
   "outputs": [
    {
     "data": {
      "text/plain": [
       "tuple"
      ]
     },
     "execution_count": 15,
     "metadata": {},
     "output_type": "execute_result"
    }
   ],
   "source": [
    "type(t)"
   ]
  },
  {
   "cell_type": "code",
   "execution_count": 16,
   "id": "5aa1217d",
   "metadata": {},
   "outputs": [],
   "source": [
    "t = (12, True, 124.5, 5+5j, \"python\")"
   ]
  },
  {
   "cell_type": "code",
   "execution_count": 17,
   "id": "9460cec8",
   "metadata": {},
   "outputs": [
    {
     "data": {
      "text/plain": [
       "5"
      ]
     },
     "execution_count": 17,
     "metadata": {},
     "output_type": "execute_result"
    }
   ],
   "source": [
    "len(t)"
   ]
  },
  {
   "cell_type": "raw",
   "id": "c1bd8bb8",
   "metadata": {},
   "source": [
    " List is mutable and tuple is immutable"
   ]
  },
  {
   "cell_type": "code",
   "execution_count": 18,
   "id": "719c6a28",
   "metadata": {},
   "outputs": [],
   "source": [
    "t = (24,)"
   ]
  },
  {
   "cell_type": "code",
   "execution_count": 19,
   "id": "4de0215e",
   "metadata": {},
   "outputs": [
    {
     "data": {
      "text/plain": [
       "tuple"
      ]
     },
     "execution_count": 19,
     "metadata": {},
     "output_type": "execute_result"
    }
   ],
   "source": [
    "type(t)"
   ]
  },
  {
   "cell_type": "code",
   "execution_count": 24,
   "id": "521ff6a4",
   "metadata": {},
   "outputs": [],
   "source": [
    "s = {12,34,224,12,12,34,46}"
   ]
  },
  {
   "cell_type": "code",
   "execution_count": 25,
   "id": "4178490f",
   "metadata": {},
   "outputs": [
    {
     "data": {
      "text/plain": [
       "set"
      ]
     },
     "execution_count": 25,
     "metadata": {},
     "output_type": "execute_result"
    }
   ],
   "source": [
    "type(s)"
   ]
  },
  {
   "cell_type": "code",
   "execution_count": 26,
   "id": "11ded6a6",
   "metadata": {},
   "outputs": [
    {
     "data": {
      "text/plain": [
       "{12, 34, 46, 224}"
      ]
     },
     "execution_count": 26,
     "metadata": {},
     "output_type": "execute_result"
    }
   ],
   "source": [
    "s"
   ]
  },
  {
   "cell_type": "code",
   "execution_count": 27,
   "id": "749ac2e0",
   "metadata": {},
   "outputs": [],
   "source": [
    "l = [23, 45, 12, 23, 45,45]"
   ]
  },
  {
   "cell_type": "code",
   "execution_count": 28,
   "id": "5641d288",
   "metadata": {},
   "outputs": [
    {
     "data": {
      "text/plain": [
       "{12, 23, 45}"
      ]
     },
     "execution_count": 28,
     "metadata": {},
     "output_type": "execute_result"
    }
   ],
   "source": [
    "set(l)"
   ]
  },
  {
   "cell_type": "code",
   "execution_count": 29,
   "id": "29a0c918",
   "metadata": {},
   "outputs": [
    {
     "data": {
      "text/plain": [
       "(23, 45, 12, 23, 45, 45)"
      ]
     },
     "execution_count": 29,
     "metadata": {},
     "output_type": "execute_result"
    }
   ],
   "source": [
    " tuple(l)"
   ]
  },
  {
   "cell_type": "code",
   "execution_count": 30,
   "id": "fa3cc117",
   "metadata": {},
   "outputs": [],
   "source": [
    "d ={}"
   ]
  },
  {
   "cell_type": "code",
   "execution_count": 31,
   "id": "eb8e9676",
   "metadata": {},
   "outputs": [
    {
     "data": {
      "text/plain": [
       "dict"
      ]
     },
     "execution_count": 31,
     "metadata": {},
     "output_type": "execute_result"
    }
   ],
   "source": [
    "type(d)"
   ]
  },
  {
   "cell_type": "code",
   "execution_count": 32,
   "id": "8a6243ca",
   "metadata": {},
   "outputs": [],
   "source": [
    "d ={\"key\" : \"value\", \"name\" : \"john\", \"number\" : 12345}"
   ]
  },
  {
   "cell_type": "code",
   "execution_count": 33,
   "id": "ec2250cf",
   "metadata": {},
   "outputs": [
    {
     "data": {
      "text/plain": [
       "3"
      ]
     },
     "execution_count": 33,
     "metadata": {},
     "output_type": "execute_result"
    }
   ],
   "source": [
    "len(d)"
   ]
  },
  {
   "cell_type": "raw",
   "id": "ca3d4427",
   "metadata": {},
   "source": [
    "we can't convert dict in other data types, coz data loss happens "
   ]
  },
  {
   "cell_type": "code",
   "execution_count": null,
   "id": "7585b0db",
   "metadata": {},
   "outputs": [],
   "source": []
  }
 ],
 "metadata": {
  "kernelspec": {
   "display_name": "Python 3 (ipykernel)",
   "language": "python",
   "name": "python3"
  },
  "language_info": {
   "codemirror_mode": {
    "name": "ipython",
    "version": 3
   },
   "file_extension": ".py",
   "mimetype": "text/x-python",
   "name": "python",
   "nbconvert_exporter": "python",
   "pygments_lexer": "ipython3",
   "version": "3.11.4"
  }
 },
 "nbformat": 4,
 "nbformat_minor": 5
}
