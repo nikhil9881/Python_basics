{
 "cells": [
  {
   "cell_type": "raw",
   "id": "9c9f8e0a",
   "metadata": {},
   "source": [
    "try\n",
    "except\n",
    "finally"
   ]
  },
  {
   "cell_type": "code",
   "execution_count": 1,
   "id": "8354d1ce",
   "metadata": {},
   "outputs": [
    {
     "name": "stdout",
     "output_type": "stream",
     "text": [
      "0.5\n"
     ]
    }
   ],
   "source": [
    "a = 10\n",
    "b =20\n",
    "try:\n",
    "    print(a/b)\n",
    "except:\n",
    "    print(\"Number cant be divided by zero\")"
   ]
  },
  {
   "cell_type": "code",
   "execution_count": 3,
   "id": "6190ecab",
   "metadata": {},
   "outputs": [
    {
     "name": "stdout",
     "output_type": "stream",
     "text": [
      "division by zero\n"
     ]
    }
   ],
   "source": [
    "a = 10\n",
    "b = 0\n",
    "try:\n",
    "    print(a/b)\n",
    "# except:\n",
    "#     print(\"Number cant be divided by zero\")\n",
    "except Exception as e:\n",
    "    print(e)"
   ]
  },
  {
   "cell_type": "code",
   "execution_count": 4,
   "id": "9701c3d1",
   "metadata": {},
   "outputs": [
    {
     "name": "stdout",
     "output_type": "stream",
     "text": [
      "1.0\n",
      "file is updated\n"
     ]
    }
   ],
   "source": [
    "a = 10 \n",
    "b = 10\n",
    "try:\n",
    "    print(a/b)\n",
    "    try:\n",
    "        f = open(\"abc.txt\", 'w')\n",
    "        f.write('hello')\n",
    "        print(\"file is updated\")\n",
    "    except Exception as e:\n",
    "        print(e)\n",
    "except Exception as e:\n",
    "    print(e)"
   ]
  },
  {
   "cell_type": "code",
   "execution_count": null,
   "id": "2356f7a9",
   "metadata": {},
   "outputs": [],
   "source": []
  }
 ],
 "metadata": {
  "kernelspec": {
   "display_name": "Python 3 (ipykernel)",
   "language": "python",
   "name": "python3"
  },
  "language_info": {
   "codemirror_mode": {
    "name": "ipython",
    "version": 3
   },
   "file_extension": ".py",
   "mimetype": "text/x-python",
   "name": "python",
   "nbconvert_exporter": "python",
   "pygments_lexer": "ipython3",
   "version": "3.11.4"
  }
 },
 "nbformat": 4,
 "nbformat_minor": 5
}
