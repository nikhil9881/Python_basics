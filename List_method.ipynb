{
 "cells": [
  {
   "cell_type": "code",
   "execution_count": 2,
   "id": "bf7f03a7",
   "metadata": {},
   "outputs": [],
   "source": [
    "l = []"
   ]
  },
  {
   "cell_type": "code",
   "execution_count": 4,
   "id": "2ff5d9e2",
   "metadata": {},
   "outputs": [
    {
     "data": {
      "text/plain": [
       "list"
      ]
     },
     "execution_count": 4,
     "metadata": {},
     "output_type": "execute_result"
    }
   ],
   "source": [
    "type(l)"
   ]
  },
  {
   "cell_type": "code",
   "execution_count": 5,
   "id": "cc43cf7f",
   "metadata": {},
   "outputs": [],
   "source": [
    "l = [1, 24.4, True, \"python\", 5+5j]"
   ]
  },
  {
   "cell_type": "code",
   "execution_count": 6,
   "id": "f8b1ea7c",
   "metadata": {},
   "outputs": [
    {
     "data": {
      "text/plain": [
       "5"
      ]
     },
     "execution_count": 6,
     "metadata": {},
     "output_type": "execute_result"
    }
   ],
   "source": [
    "len(l)"
   ]
  },
  {
   "cell_type": "code",
   "execution_count": 8,
   "id": "6f4af58d",
   "metadata": {},
   "outputs": [
    {
     "data": {
      "text/plain": [
       "1"
      ]
     },
     "execution_count": 8,
     "metadata": {},
     "output_type": "execute_result"
    }
   ],
   "source": [
    "l[0]"
   ]
  },
  {
   "cell_type": "code",
   "execution_count": 9,
   "id": "d52da4ae",
   "metadata": {},
   "outputs": [
    {
     "data": {
      "text/plain": [
       "24.4"
      ]
     },
     "execution_count": 9,
     "metadata": {},
     "output_type": "execute_result"
    }
   ],
   "source": [
    "l[1]"
   ]
  },
  {
   "cell_type": "code",
   "execution_count": 10,
   "id": "be22b9b9",
   "metadata": {},
   "outputs": [
    {
     "data": {
      "text/plain": [
       "[1, 24.4, True, 'python', (5+5j)]"
      ]
     },
     "execution_count": 10,
     "metadata": {},
     "output_type": "execute_result"
    }
   ],
   "source": [
    "l[0:5]"
   ]
  },
  {
   "cell_type": "code",
   "execution_count": 11,
   "id": "f6d3460b",
   "metadata": {},
   "outputs": [
    {
     "data": {
      "text/plain": [
       "['python', (5+5j)]"
      ]
     },
     "execution_count": 11,
     "metadata": {},
     "output_type": "execute_result"
    }
   ],
   "source": [
    "l[3:]"
   ]
  },
  {
   "cell_type": "code",
   "execution_count": 12,
   "id": "4ed8aa05",
   "metadata": {},
   "outputs": [
    {
     "data": {
      "text/plain": [
       "[1, 24.4, True, 'python', (5+5j)]"
      ]
     },
     "execution_count": 12,
     "metadata": {},
     "output_type": "execute_result"
    }
   ],
   "source": [
    "l[:100]"
   ]
  },
  {
   "cell_type": "code",
   "execution_count": 13,
   "id": "6fa56cea",
   "metadata": {},
   "outputs": [
    {
     "data": {
      "text/plain": [
       "[(5+5j), 'python', True, 24.4, 1]"
      ]
     },
     "execution_count": 13,
     "metadata": {},
     "output_type": "execute_result"
    }
   ],
   "source": [
    "l[::-1]"
   ]
  },
  {
   "cell_type": "raw",
   "id": "f33871e3",
   "metadata": {},
   "source": [
    "l[start:end:steps]"
   ]
  },
  {
   "cell_type": "raw",
   "id": "dc7eb2d0",
   "metadata": {},
   "source": [
    "in list we only perform min and max operation on numbers or on capital or small alphabets, we can't perform on mix list with charater and numbers"
   ]
  },
  {
   "cell_type": "code",
   "execution_count": 1,
   "id": "b915996e",
   "metadata": {},
   "outputs": [],
   "source": [
    "l = [12, 34, 45, 74, 99]"
   ]
  },
  {
   "cell_type": "code",
   "execution_count": 2,
   "id": "c5a7ea6e",
   "metadata": {},
   "outputs": [
    {
     "data": {
      "text/plain": [
       "12"
      ]
     },
     "execution_count": 2,
     "metadata": {},
     "output_type": "execute_result"
    }
   ],
   "source": [
    "min(l)"
   ]
  },
  {
   "cell_type": "code",
   "execution_count": 3,
   "id": "09367015",
   "metadata": {},
   "outputs": [
    {
     "data": {
      "text/plain": [
       "99"
      ]
     },
     "execution_count": 3,
     "metadata": {},
     "output_type": "execute_result"
    }
   ],
   "source": [
    "max(l)"
   ]
  },
  {
   "cell_type": "code",
   "execution_count": 5,
   "id": "625b6d17",
   "metadata": {},
   "outputs": [
    {
     "data": {
      "text/plain": [
       "[12, 34, 45, 74, 99]"
      ]
     },
     "execution_count": 5,
     "metadata": {},
     "output_type": "execute_result"
    }
   ],
   "source": [
    "l"
   ]
  },
  {
   "cell_type": "code",
   "execution_count": 6,
   "id": "cf1204b2",
   "metadata": {},
   "outputs": [],
   "source": [
    "l[3] = 88"
   ]
  },
  {
   "cell_type": "code",
   "execution_count": 7,
   "id": "f4c6571a",
   "metadata": {},
   "outputs": [
    {
     "data": {
      "text/plain": [
       "[12, 34, 45, 88, 99]"
      ]
     },
     "execution_count": 7,
     "metadata": {},
     "output_type": "execute_result"
    }
   ],
   "source": [
    "l"
   ]
  },
  {
   "cell_type": "code",
   "execution_count": 8,
   "id": "0c9756ab",
   "metadata": {},
   "outputs": [],
   "source": [
    "l.insert(3, 87)"
   ]
  },
  {
   "cell_type": "code",
   "execution_count": 9,
   "id": "af5d57ff",
   "metadata": {},
   "outputs": [
    {
     "data": {
      "text/plain": [
       "[12, 34, 45, 87, 88, 99]"
      ]
     },
     "execution_count": 9,
     "metadata": {},
     "output_type": "execute_result"
    }
   ],
   "source": [
    "l"
   ]
  },
  {
   "cell_type": "code",
   "execution_count": 11,
   "id": "f9719569",
   "metadata": {},
   "outputs": [
    {
     "data": {
      "text/plain": [
       "1"
      ]
     },
     "execution_count": 11,
     "metadata": {},
     "output_type": "execute_result"
    }
   ],
   "source": [
    "l.count(88)"
   ]
  },
  {
   "cell_type": "code",
   "execution_count": 12,
   "id": "b178b6a4",
   "metadata": {},
   "outputs": [
    {
     "data": {
      "text/plain": [
       "4"
      ]
     },
     "execution_count": 12,
     "metadata": {},
     "output_type": "execute_result"
    }
   ],
   "source": [
    "l.index(88)"
   ]
  },
  {
   "cell_type": "code",
   "execution_count": 14,
   "id": "5be79c12",
   "metadata": {},
   "outputs": [],
   "source": [
    "l.append(20)"
   ]
  },
  {
   "cell_type": "code",
   "execution_count": 23,
   "id": "b1a5654c",
   "metadata": {},
   "outputs": [
    {
     "data": {
      "text/plain": [
       "[12, 34, 45, 87, 88, 99, 20, [88, 89, 90], 88, 89, 90]"
      ]
     },
     "execution_count": 23,
     "metadata": {},
     "output_type": "execute_result"
    }
   ],
   "source": [
    "l"
   ]
  },
  {
   "cell_type": "code",
   "execution_count": 17,
   "id": "1fd87539",
   "metadata": {},
   "outputs": [],
   "source": [
    "l1 = [88, 89, 90]"
   ]
  },
  {
   "cell_type": "code",
   "execution_count": 18,
   "id": "81a4ba5a",
   "metadata": {},
   "outputs": [],
   "source": [
    "l.append(l1)"
   ]
  },
  {
   "cell_type": "code",
   "execution_count": 19,
   "id": "bd43c8f6",
   "metadata": {},
   "outputs": [
    {
     "data": {
      "text/plain": [
       "[12, 34, 45, 87, 88, 99, 20, [88, 89, 90]]"
      ]
     },
     "execution_count": 19,
     "metadata": {},
     "output_type": "execute_result"
    }
   ],
   "source": [
    "l"
   ]
  },
  {
   "cell_type": "code",
   "execution_count": 20,
   "id": "dcc04562",
   "metadata": {},
   "outputs": [],
   "source": [
    "l.extend(l1)"
   ]
  },
  {
   "cell_type": "code",
   "execution_count": 21,
   "id": "9cfd666d",
   "metadata": {},
   "outputs": [
    {
     "data": {
      "text/plain": [
       "[12, 34, 45, 87, 88, 99, 20, [88, 89, 90], 88, 89, 90]"
      ]
     },
     "execution_count": 21,
     "metadata": {},
     "output_type": "execute_result"
    }
   ],
   "source": [
    "l"
   ]
  },
  {
   "cell_type": "code",
   "execution_count": 22,
   "id": "c31dca99",
   "metadata": {},
   "outputs": [
    {
     "data": {
      "text/plain": [
       "[12, 34, 45, 87, 88, 99, 20, [88, 89, 90], 88, 89, 90]"
      ]
     },
     "execution_count": 22,
     "metadata": {},
     "output_type": "execute_result"
    }
   ],
   "source": [
    "l"
   ]
  },
  {
   "cell_type": "code",
   "execution_count": 25,
   "id": "57d1bccc",
   "metadata": {},
   "outputs": [
    {
     "data": {
      "text/plain": [
       "[88, 89, 90]"
      ]
     },
     "execution_count": 25,
     "metadata": {},
     "output_type": "execute_result"
    }
   ],
   "source": [
    "l1"
   ]
  },
  {
   "cell_type": "code",
   "execution_count": 28,
   "id": "8dddc9b4",
   "metadata": {},
   "outputs": [
    {
     "data": {
      "text/plain": [
       "90"
      ]
     },
     "execution_count": 28,
     "metadata": {},
     "output_type": "execute_result"
    }
   ],
   "source": [
    "l1.pop()"
   ]
  },
  {
   "cell_type": "code",
   "execution_count": 29,
   "id": "bda4e4b6",
   "metadata": {},
   "outputs": [
    {
     "data": {
      "text/plain": [
       "[88, 89]"
      ]
     },
     "execution_count": 29,
     "metadata": {},
     "output_type": "execute_result"
    }
   ],
   "source": [
    "l1"
   ]
  },
  {
   "cell_type": "code",
   "execution_count": 31,
   "id": "c9868a69",
   "metadata": {},
   "outputs": [],
   "source": [
    "l.remove(89)"
   ]
  },
  {
   "cell_type": "code",
   "execution_count": 32,
   "id": "1c6e0936",
   "metadata": {},
   "outputs": [
    {
     "data": {
      "text/plain": [
       "[88, 89]"
      ]
     },
     "execution_count": 32,
     "metadata": {},
     "output_type": "execute_result"
    }
   ],
   "source": [
    "l1"
   ]
  },
  {
   "cell_type": "code",
   "execution_count": 33,
   "id": "6df94007",
   "metadata": {},
   "outputs": [],
   "source": [
    "del l[0:1]"
   ]
  },
  {
   "cell_type": "code",
   "execution_count": 34,
   "id": "a3b2efba",
   "metadata": {},
   "outputs": [
    {
     "data": {
      "text/plain": [
       "[88, 89]"
      ]
     },
     "execution_count": 34,
     "metadata": {},
     "output_type": "execute_result"
    }
   ],
   "source": [
    "l1"
   ]
  },
  {
   "cell_type": "code",
   "execution_count": 35,
   "id": "bcd7e771",
   "metadata": {},
   "outputs": [],
   "source": [
    "l1.reverse()"
   ]
  },
  {
   "cell_type": "code",
   "execution_count": 36,
   "id": "0b0e29e7",
   "metadata": {},
   "outputs": [
    {
     "data": {
      "text/plain": [
       "[89, 88]"
      ]
     },
     "execution_count": 36,
     "metadata": {},
     "output_type": "execute_result"
    }
   ],
   "source": [
    "l1"
   ]
  },
  {
   "cell_type": "code",
   "execution_count": 39,
   "id": "4f737197",
   "metadata": {},
   "outputs": [],
   "source": [
    "l1 = [1, 2, 3]\n",
    "l2 = [4, 5, 6]\n",
    "l3 = [7, 8, 9]"
   ]
  },
  {
   "cell_type": "code",
   "execution_count": 40,
   "id": "0cc26111",
   "metadata": {},
   "outputs": [],
   "source": [
    "l4 = l1 + l2 + l3"
   ]
  },
  {
   "cell_type": "code",
   "execution_count": 41,
   "id": "1b35feda",
   "metadata": {},
   "outputs": [
    {
     "data": {
      "text/plain": [
       "[1, 2, 3, 4, 5, 6, 7, 8, 9]"
      ]
     },
     "execution_count": 41,
     "metadata": {},
     "output_type": "execute_result"
    }
   ],
   "source": [
    "l4"
   ]
  },
  {
   "cell_type": "code",
   "execution_count": 42,
   "id": "15000c04",
   "metadata": {},
   "outputs": [],
   "source": [
    "l4 = [l1, l2, l3]"
   ]
  },
  {
   "cell_type": "code",
   "execution_count": 43,
   "id": "351306ac",
   "metadata": {},
   "outputs": [
    {
     "data": {
      "text/plain": [
       "[[1, 2, 3], [4, 5, 6], [7, 8, 9]]"
      ]
     },
     "execution_count": 43,
     "metadata": {},
     "output_type": "execute_result"
    }
   ],
   "source": [
    "l4"
   ]
  },
  {
   "cell_type": "code",
   "execution_count": 44,
   "id": "7a49fb0f",
   "metadata": {},
   "outputs": [
    {
     "data": {
      "text/plain": [
       "[7, 8, 9]"
      ]
     },
     "execution_count": 44,
     "metadata": {},
     "output_type": "execute_result"
    }
   ],
   "source": [
    "l4[2]"
   ]
  },
  {
   "cell_type": "code",
   "execution_count": null,
   "id": "dccb1998",
   "metadata": {},
   "outputs": [],
   "source": []
  }
 ],
 "metadata": {
  "kernelspec": {
   "display_name": "Python 3 (ipykernel)",
   "language": "python",
   "name": "python3"
  },
  "language_info": {
   "codemirror_mode": {
    "name": "ipython",
    "version": 3
   },
   "file_extension": ".py",
   "mimetype": "text/x-python",
   "name": "python",
   "nbconvert_exporter": "python",
   "pygments_lexer": "ipython3",
   "version": "3.11.4"
  }
 },
 "nbformat": 4,
 "nbformat_minor": 5
}
