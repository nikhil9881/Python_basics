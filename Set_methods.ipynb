{
 "cells": [
  {
   "cell_type": "raw",
   "id": "fae69781",
   "metadata": {},
   "source": [
    " we can't create empty set"
   ]
  },
  {
   "cell_type": "code",
   "execution_count": 1,
   "id": "47609504",
   "metadata": {},
   "outputs": [],
   "source": [
    "s = {12,24,42,54,32,23,45,\"python\"}"
   ]
  },
  {
   "cell_type": "code",
   "execution_count": 2,
   "id": "4b7582df",
   "metadata": {},
   "outputs": [
    {
     "data": {
      "text/plain": [
       "{12, 23, 24, 32, 42, 45, 54, 'python'}"
      ]
     },
     "execution_count": 2,
     "metadata": {},
     "output_type": "execute_result"
    }
   ],
   "source": [
    "s"
   ]
  },
  {
   "cell_type": "code",
   "execution_count": 3,
   "id": "c199ae31",
   "metadata": {},
   "outputs": [
    {
     "data": {
      "text/plain": [
       "8"
      ]
     },
     "execution_count": 3,
     "metadata": {},
     "output_type": "execute_result"
    }
   ],
   "source": [
    "len(s)"
   ]
  },
  {
   "cell_type": "code",
   "execution_count": 4,
   "id": "12136ef8",
   "metadata": {},
   "outputs": [],
   "source": [
    "s.add(400)"
   ]
  },
  {
   "cell_type": "code",
   "execution_count": 5,
   "id": "8e0b5435",
   "metadata": {},
   "outputs": [
    {
     "data": {
      "text/plain": [
       "{12, 23, 24, 32, 400, 42, 45, 54, 'python'}"
      ]
     },
     "execution_count": 5,
     "metadata": {},
     "output_type": "execute_result"
    }
   ],
   "source": [
    "s"
   ]
  },
  {
   "cell_type": "raw",
   "id": "4f07bb6d",
   "metadata": {},
   "source": [
    "we can't add list in set"
   ]
  },
  {
   "cell_type": "code",
   "execution_count": 6,
   "id": "5c04c5ec",
   "metadata": {},
   "outputs": [],
   "source": [
    "t = (1,2,3,4)"
   ]
  },
  {
   "cell_type": "code",
   "execution_count": 7,
   "id": "2044e8fe",
   "metadata": {},
   "outputs": [],
   "source": [
    "s.add(t)"
   ]
  },
  {
   "cell_type": "code",
   "execution_count": 8,
   "id": "520753e4",
   "metadata": {},
   "outputs": [
    {
     "data": {
      "text/plain": [
       "{(1, 2, 3, 4), 12, 23, 24, 32, 400, 42, 45, 54, 'python'}"
      ]
     },
     "execution_count": 8,
     "metadata": {},
     "output_type": "execute_result"
    }
   ],
   "source": [
    "s"
   ]
  },
  {
   "cell_type": "raw",
   "id": "6ed6f96c",
   "metadata": {},
   "source": [
    "we can add tuple in set"
   ]
  },
  {
   "cell_type": "code",
   "execution_count": 9,
   "id": "447e786e",
   "metadata": {},
   "outputs": [
    {
     "data": {
      "text/plain": [
       "10"
      ]
     },
     "execution_count": 9,
     "metadata": {},
     "output_type": "execute_result"
    }
   ],
   "source": [
    "len(s)"
   ]
  },
  {
   "cell_type": "code",
   "execution_count": 10,
   "id": "fb7558f5",
   "metadata": {},
   "outputs": [
    {
     "data": {
      "text/plain": [
       "{(1, 2, 3, 4), 12, 23, 24, 32, 400, 42, 45, 54, 'python'}"
      ]
     },
     "execution_count": 10,
     "metadata": {},
     "output_type": "execute_result"
    }
   ],
   "source": [
    "s"
   ]
  },
  {
   "cell_type": "code",
   "execution_count": 11,
   "id": "776c15e0",
   "metadata": {},
   "outputs": [],
   "source": [
    "s1 = {12, 13 , 15}"
   ]
  },
  {
   "cell_type": "code",
   "execution_count": 12,
   "id": "4b352b5a",
   "metadata": {},
   "outputs": [],
   "source": [
    "s.update(s1)"
   ]
  },
  {
   "cell_type": "code",
   "execution_count": 13,
   "id": "0016308d",
   "metadata": {},
   "outputs": [
    {
     "data": {
      "text/plain": [
       "{(1, 2, 3, 4), 12, 13, 15, 23, 24, 32, 400, 42, 45, 54, 'python'}"
      ]
     },
     "execution_count": 13,
     "metadata": {},
     "output_type": "execute_result"
    }
   ],
   "source": [
    "s"
   ]
  },
  {
   "cell_type": "code",
   "execution_count": 14,
   "id": "e1345e9b",
   "metadata": {},
   "outputs": [
    {
     "data": {
      "text/plain": [
       "12"
      ]
     },
     "execution_count": 14,
     "metadata": {},
     "output_type": "execute_result"
    }
   ],
   "source": [
    "len(s)"
   ]
  },
  {
   "cell_type": "raw",
   "id": "66cfd6e2",
   "metadata": {},
   "source": [
    "in set we can't add set but we can update set"
   ]
  },
  {
   "cell_type": "code",
   "execution_count": 15,
   "id": "496195bb",
   "metadata": {},
   "outputs": [
    {
     "data": {
      "text/plain": [
       "{(1, 2, 3, 4), 12, 13, 15, 23, 24, 32, 400, 42, 45, 54, 'python'}"
      ]
     },
     "execution_count": 15,
     "metadata": {},
     "output_type": "execute_result"
    }
   ],
   "source": [
    "s "
   ]
  },
  {
   "cell_type": "code",
   "execution_count": 16,
   "id": "74290142",
   "metadata": {},
   "outputs": [],
   "source": [
    "s = {12,24,42,54,32,23,45,\"python\"}"
   ]
  },
  {
   "cell_type": "code",
   "execution_count": 17,
   "id": "5d1a7b99",
   "metadata": {},
   "outputs": [],
   "source": [
    "s1 = s.copy()"
   ]
  },
  {
   "cell_type": "code",
   "execution_count": 18,
   "id": "d855feea",
   "metadata": {},
   "outputs": [
    {
     "data": {
      "text/plain": [
       "{12, 23, 24, 32, 42, 45, 54, 'python'}"
      ]
     },
     "execution_count": 18,
     "metadata": {},
     "output_type": "execute_result"
    }
   ],
   "source": [
    "s1"
   ]
  },
  {
   "cell_type": "code",
   "execution_count": 19,
   "id": "bfec91d7",
   "metadata": {},
   "outputs": [],
   "source": [
    "s.clear()"
   ]
  },
  {
   "cell_type": "code",
   "execution_count": 20,
   "id": "258210b9",
   "metadata": {},
   "outputs": [
    {
     "data": {
      "text/plain": [
       "set()"
      ]
     },
     "execution_count": 20,
     "metadata": {},
     "output_type": "execute_result"
    }
   ],
   "source": [
    "s"
   ]
  },
  {
   "cell_type": "code",
   "execution_count": 21,
   "id": "0b951db3",
   "metadata": {},
   "outputs": [
    {
     "data": {
      "text/plain": [
       "{12, 23, 24, 32, 42, 45, 54, 'python'}"
      ]
     },
     "execution_count": 21,
     "metadata": {},
     "output_type": "execute_result"
    }
   ],
   "source": [
    "s1"
   ]
  },
  {
   "cell_type": "code",
   "execution_count": 22,
   "id": "b52a18ee",
   "metadata": {},
   "outputs": [
    {
     "data": {
      "text/plain": [
       "32"
      ]
     },
     "execution_count": 22,
     "metadata": {},
     "output_type": "execute_result"
    }
   ],
   "source": [
    "s1.pop()"
   ]
  },
  {
   "cell_type": "code",
   "execution_count": 23,
   "id": "2c00d1c6",
   "metadata": {},
   "outputs": [
    {
     "data": {
      "text/plain": [
       "42"
      ]
     },
     "execution_count": 23,
     "metadata": {},
     "output_type": "execute_result"
    }
   ],
   "source": [
    "s1.pop()"
   ]
  },
  {
   "cell_type": "code",
   "execution_count": 24,
   "id": "44b4a8b4",
   "metadata": {},
   "outputs": [
    {
     "data": {
      "text/plain": [
       "set()"
      ]
     },
     "execution_count": 24,
     "metadata": {},
     "output_type": "execute_result"
    }
   ],
   "source": [
    "s"
   ]
  },
  {
   "cell_type": "code",
   "execution_count": 25,
   "id": "bc5a12f0",
   "metadata": {},
   "outputs": [],
   "source": [
    "s = {12, 34, 45, 67}"
   ]
  },
  {
   "cell_type": "code",
   "execution_count": 26,
   "id": "d70107fd",
   "metadata": {},
   "outputs": [
    {
     "data": {
      "text/plain": [
       "{12, 34, 45, 67}"
      ]
     },
     "execution_count": 26,
     "metadata": {},
     "output_type": "execute_result"
    }
   ],
   "source": [
    "s"
   ]
  },
  {
   "cell_type": "code",
   "execution_count": 27,
   "id": "97297000",
   "metadata": {},
   "outputs": [],
   "source": [
    "s.remove(34)"
   ]
  },
  {
   "cell_type": "code",
   "execution_count": 28,
   "id": "78745fa2",
   "metadata": {},
   "outputs": [
    {
     "data": {
      "text/plain": [
       "{12, 45, 67}"
      ]
     },
     "execution_count": 28,
     "metadata": {},
     "output_type": "execute_result"
    }
   ],
   "source": [
    "s"
   ]
  },
  {
   "cell_type": "code",
   "execution_count": 29,
   "id": "3afd4f97",
   "metadata": {},
   "outputs": [],
   "source": [
    "s.discard(12)"
   ]
  },
  {
   "cell_type": "code",
   "execution_count": 30,
   "id": "af783099",
   "metadata": {},
   "outputs": [
    {
     "data": {
      "text/plain": [
       "{45, 67}"
      ]
     },
     "execution_count": 30,
     "metadata": {},
     "output_type": "execute_result"
    }
   ],
   "source": [
    "s"
   ]
  },
  {
   "cell_type": "code",
   "execution_count": 31,
   "id": "04c1a72b",
   "metadata": {},
   "outputs": [],
   "source": [
    "s.discard(99)"
   ]
  },
  {
   "cell_type": "raw",
   "id": "a261f7a8",
   "metadata": {},
   "source": [
    "we don't get error in discard while deleting differ number"
   ]
  },
  {
   "cell_type": "code",
   "execution_count": 32,
   "id": "1cad2d06",
   "metadata": {},
   "outputs": [],
   "source": [
    "s = \"Pythonprogramming\""
   ]
  },
  {
   "cell_type": "code",
   "execution_count": 33,
   "id": "a7a6dfde",
   "metadata": {},
   "outputs": [
    {
     "data": {
      "text/plain": [
       "{'P', 'a', 'g', 'h', 'i', 'm', 'n', 'o', 'p', 'r', 't', 'y'}"
      ]
     },
     "execution_count": 33,
     "metadata": {},
     "output_type": "execute_result"
    }
   ],
   "source": [
    "set(s)"
   ]
  },
  {
   "cell_type": "code",
   "execution_count": 34,
   "id": "37e8ad1c",
   "metadata": {},
   "outputs": [
    {
     "data": {
      "text/plain": [
       "'gnimmargorpnohtyP'"
      ]
     },
     "execution_count": 34,
     "metadata": {},
     "output_type": "execute_result"
    }
   ],
   "source": [
    "s[::-1]"
   ]
  },
  {
   "cell_type": "code",
   "execution_count": 37,
   "id": "0d1a5e20",
   "metadata": {},
   "outputs": [],
   "source": [
    "s = {10, 20, 30, 40}\n",
    "s1 = {34, 10, 30, 56}"
   ]
  },
  {
   "cell_type": "code",
   "execution_count": 38,
   "id": "16db5fa3",
   "metadata": {},
   "outputs": [
    {
     "data": {
      "text/plain": [
       "{10, 30}"
      ]
     },
     "execution_count": 38,
     "metadata": {},
     "output_type": "execute_result"
    }
   ],
   "source": [
    "s.intersection(s1)"
   ]
  },
  {
   "cell_type": "code",
   "execution_count": 39,
   "id": "81964628",
   "metadata": {},
   "outputs": [
    {
     "data": {
      "text/plain": [
       "{10, 20, 30, 34, 40, 56}"
      ]
     },
     "execution_count": 39,
     "metadata": {},
     "output_type": "execute_result"
    }
   ],
   "source": [
    "s.union(s1)"
   ]
  },
  {
   "cell_type": "code",
   "execution_count": 40,
   "id": "ea24fead",
   "metadata": {},
   "outputs": [
    {
     "data": {
      "text/plain": [
       "{20, 34, 40, 56}"
      ]
     },
     "execution_count": 40,
     "metadata": {},
     "output_type": "execute_result"
    }
   ],
   "source": [
    "s.symmetric_difference(s1)"
   ]
  },
  {
   "cell_type": "code",
   "execution_count": 41,
   "id": "5f03c039",
   "metadata": {},
   "outputs": [
    {
     "data": {
      "text/plain": [
       "{20, 40}"
      ]
     },
     "execution_count": 41,
     "metadata": {},
     "output_type": "execute_result"
    }
   ],
   "source": [
    "s.difference(s1)"
   ]
  },
  {
   "cell_type": "code",
   "execution_count": 42,
   "id": "73787a6c",
   "metadata": {},
   "outputs": [
    {
     "data": {
      "text/plain": [
       "{10, 30, 34, 56}"
      ]
     },
     "execution_count": 42,
     "metadata": {},
     "output_type": "execute_result"
    }
   ],
   "source": [
    "s1"
   ]
  },
  {
   "cell_type": "code",
   "execution_count": 43,
   "id": "612c651c",
   "metadata": {},
   "outputs": [
    {
     "data": {
      "text/plain": [
       "{20, 40}"
      ]
     },
     "execution_count": 43,
     "metadata": {},
     "output_type": "execute_result"
    }
   ],
   "source": [
    "s.difference(s1)"
   ]
  },
  {
   "cell_type": "code",
   "execution_count": 1,
   "id": "2c22f0e5",
   "metadata": {},
   "outputs": [],
   "source": [
    "s = {\"a\",\"b\",\"c\"}\n",
    "s1 = {\"c\",\"f\",\"b\",\"d\",\"a\"}"
   ]
  },
  {
   "cell_type": "code",
   "execution_count": 2,
   "id": "4df11db3",
   "metadata": {},
   "outputs": [
    {
     "data": {
      "text/plain": [
       "True"
      ]
     },
     "execution_count": 2,
     "metadata": {},
     "output_type": "execute_result"
    }
   ],
   "source": [
    "s.issubset(s1)"
   ]
  },
  {
   "cell_type": "code",
   "execution_count": 3,
   "id": "d2aed019",
   "metadata": {},
   "outputs": [
    {
     "data": {
      "text/plain": [
       "False"
      ]
     },
     "execution_count": 3,
     "metadata": {},
     "output_type": "execute_result"
    }
   ],
   "source": [
    "s1.issubset(s)"
   ]
  },
  {
   "cell_type": "code",
   "execution_count": 4,
   "id": "826bc706",
   "metadata": {},
   "outputs": [
    {
     "data": {
      "text/plain": [
       "True"
      ]
     },
     "execution_count": 4,
     "metadata": {},
     "output_type": "execute_result"
    }
   ],
   "source": [
    "\"a\" in s"
   ]
  },
  {
   "cell_type": "code",
   "execution_count": 5,
   "id": "3e9225e6",
   "metadata": {},
   "outputs": [
    {
     "data": {
      "text/plain": [
       "False"
      ]
     },
     "execution_count": 5,
     "metadata": {},
     "output_type": "execute_result"
    }
   ],
   "source": [
    "\"d\" in s"
   ]
  },
  {
   "cell_type": "code",
   "execution_count": 6,
   "id": "5ef8a22a",
   "metadata": {},
   "outputs": [
    {
     "data": {
      "text/plain": [
       "True"
      ]
     },
     "execution_count": 6,
     "metadata": {},
     "output_type": "execute_result"
    }
   ],
   "source": [
    "\"d\" not in s"
   ]
  },
  {
   "cell_type": "code",
   "execution_count": null,
   "id": "4d7d6b3f",
   "metadata": {},
   "outputs": [],
   "source": []
  }
 ],
 "metadata": {
  "kernelspec": {
   "display_name": "Python 3 (ipykernel)",
   "language": "python",
   "name": "python3"
  },
  "language_info": {
   "codemirror_mode": {
    "name": "ipython",
    "version": 3
   },
   "file_extension": ".py",
   "mimetype": "text/x-python",
   "name": "python",
   "nbconvert_exporter": "python",
   "pygments_lexer": "ipython3",
   "version": "3.11.4"
  }
 },
 "nbformat": 4,
 "nbformat_minor": 5
}
