{
 "cells": [
  {
   "cell_type": "code",
   "execution_count": 2,
   "id": "9d084373",
   "metadata": {},
   "outputs": [],
   "source": [
    "from random import *"
   ]
  },
  {
   "cell_type": "code",
   "execution_count": 3,
   "id": "1849a922",
   "metadata": {},
   "outputs": [],
   "source": [
    "s = \"python\""
   ]
  },
  {
   "cell_type": "code",
   "execution_count": 4,
   "id": "8dca06b5",
   "metadata": {},
   "outputs": [
    {
     "data": {
      "text/plain": [
       "0.2657642363574757"
      ]
     },
     "execution_count": 4,
     "metadata": {},
     "output_type": "execute_result"
    }
   ],
   "source": [
    "random()"
   ]
  },
  {
   "cell_type": "code",
   "execution_count": 5,
   "id": "e77008d5",
   "metadata": {},
   "outputs": [
    {
     "name": "stdout",
     "output_type": "stream",
     "text": [
      "0.5109386390252861\n",
      "0.519609111376853\n",
      "0.8559337405797478\n",
      "0.2755807322532656\n",
      "0.5477820873835847\n"
     ]
    }
   ],
   "source": [
    "for i in range(5):\n",
    "    print(random())"
   ]
  },
  {
   "cell_type": "code",
   "execution_count": 6,
   "id": "d9e3fb22",
   "metadata": {},
   "outputs": [
    {
     "data": {
      "text/plain": [
       "7"
      ]
     },
     "execution_count": 6,
     "metadata": {},
     "output_type": "execute_result"
    }
   ],
   "source": [
    "randint(0, 10)"
   ]
  },
  {
   "cell_type": "code",
   "execution_count": 7,
   "id": "8aa04282",
   "metadata": {},
   "outputs": [
    {
     "name": "stdout",
     "output_type": "stream",
     "text": [
      "13\n",
      "2\n",
      "6\n",
      "11\n",
      "8\n"
     ]
    }
   ],
   "source": [
    "for i in range(5):\n",
    "    print(randint(1, 15))"
   ]
  },
  {
   "cell_type": "code",
   "execution_count": 9,
   "id": "527e7a1b",
   "metadata": {},
   "outputs": [
    {
     "data": {
      "text/plain": [
       "85"
      ]
     },
     "execution_count": 9,
     "metadata": {},
     "output_type": "execute_result"
    }
   ],
   "source": [
    "randrange(10, 100, 5)"
   ]
  },
  {
   "cell_type": "code",
   "execution_count": 10,
   "id": "3ebeecec",
   "metadata": {},
   "outputs": [
    {
     "data": {
      "text/plain": [
       "6.453199395472788"
      ]
     },
     "execution_count": 10,
     "metadata": {},
     "output_type": "execute_result"
    }
   ],
   "source": [
    "uniform(1, 10)"
   ]
  },
  {
   "cell_type": "code",
   "execution_count": 11,
   "id": "de86de2d",
   "metadata": {},
   "outputs": [],
   "source": [
    "l = [ 12, 45, 64, 67, 89]"
   ]
  },
  {
   "cell_type": "code",
   "execution_count": 14,
   "id": "1760d9e2",
   "metadata": {},
   "outputs": [
    {
     "data": {
      "text/plain": [
       "89"
      ]
     },
     "execution_count": 14,
     "metadata": {},
     "output_type": "execute_result"
    }
   ],
   "source": [
    "choice(l)"
   ]
  },
  {
   "cell_type": "code",
   "execution_count": 15,
   "id": "519b7dd1",
   "metadata": {},
   "outputs": [
    {
     "data": {
      "text/plain": [
       "[64, 67]"
      ]
     },
     "execution_count": 15,
     "metadata": {},
     "output_type": "execute_result"
    }
   ],
   "source": [
    "sample(l, k=2)"
   ]
  },
  {
   "cell_type": "code",
   "execution_count": null,
   "id": "38fcbb6f",
   "metadata": {},
   "outputs": [],
   "source": []
  }
 ],
 "metadata": {
  "kernelspec": {
   "display_name": "Python 3 (ipykernel)",
   "language": "python",
   "name": "python3"
  },
  "language_info": {
   "codemirror_mode": {
    "name": "ipython",
    "version": 3
   },
   "file_extension": ".py",
   "mimetype": "text/x-python",
   "name": "python",
   "nbconvert_exporter": "python",
   "pygments_lexer": "ipython3",
   "version": "3.11.4"
  }
 },
 "nbformat": 4,
 "nbformat_minor": 5
}
