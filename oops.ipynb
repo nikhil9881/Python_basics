{
 "cells": [
  {
   "cell_type": "raw",
   "id": "3ac77d55",
   "metadata": {},
   "source": [
    "class and object\n",
    "polymorphism\n",
    "Abstraction\n",
    "Inheritance\n",
    "Encapsulation"
   ]
  },
  {
   "cell_type": "raw",
   "id": "6f7a7cdd",
   "metadata": {},
   "source": [
    "def function_name():"
   ]
  },
  {
   "cell_type": "raw",
   "id": "9df497c2",
   "metadata": {},
   "source": [
    "class class_name:\n",
    "    def funct_name():\n",
    "        execution"
   ]
  },
  {
   "cell_type": "raw",
   "id": "f259ea98",
   "metadata": {},
   "source": [
    "c = class_name()  - object of class"
   ]
  },
  {
   "cell_type": "code",
   "execution_count": 8,
   "id": "27783cb1",
   "metadata": {},
   "outputs": [],
   "source": [
    "class Myclass:\n",
    "    def msg(a):\n",
    "        print(\"this is method of class\")"
   ]
  },
  {
   "cell_type": "code",
   "execution_count": 9,
   "id": "7a1f83f9",
   "metadata": {},
   "outputs": [],
   "source": [
    "m = Myclass()"
   ]
  },
  {
   "cell_type": "code",
   "execution_count": 10,
   "id": "3282e573",
   "metadata": {},
   "outputs": [
    {
     "name": "stdout",
     "output_type": "stream",
     "text": [
      "this is method of class\n"
     ]
    }
   ],
   "source": [
    "m.msg()"
   ]
  },
  {
   "cell_type": "code",
   "execution_count": 15,
   "id": "a26eedcf",
   "metadata": {},
   "outputs": [],
   "source": [
    "class info:\n",
    "    def __init__(self, name, age):\n",
    "        self.name = name\n",
    "        self.age = age\n",
    "    def display(self):\n",
    "        print(\"name of person is : \", self.name)\n",
    "        print(\"age of person is : \", self.age)"
   ]
  },
  {
   "cell_type": "code",
   "execution_count": 16,
   "id": "01af661a",
   "metadata": {},
   "outputs": [],
   "source": [
    "i = info(\"john\", 24)"
   ]
  },
  {
   "cell_type": "code",
   "execution_count": 17,
   "id": "1e69d705",
   "metadata": {},
   "outputs": [
    {
     "name": "stdout",
     "output_type": "stream",
     "text": [
      "name of person is :  john\n",
      "age of person is :  24\n"
     ]
    }
   ],
   "source": [
    "i.display()"
   ]
  },
  {
   "cell_type": "markdown",
   "id": "21c69689",
   "metadata": {},
   "source": [
    "# polymorphism"
   ]
  },
  {
   "cell_type": "raw",
   "id": "deaeaaec",
   "metadata": {},
   "source": [
    "same function with different meaning"
   ]
  },
  {
   "cell_type": "raw",
   "id": "f735fc55",
   "metadata": {},
   "source": [
    "pop() - set, dict, list\n",
    "len() - string, list\n",
    "random\n",
    "* - a*b\n",
    "    - import *"
   ]
  },
  {
   "cell_type": "code",
   "execution_count": 18,
   "id": "16662647",
   "metadata": {},
   "outputs": [],
   "source": [
    "class cat:\n",
    "    def __init__(self, name):\n",
    "        self.name = name\n",
    "    def display(self):\n",
    "        print(\"name of the cat is : \", self.name)\n",
    "\n",
    "c = cat('billi')\n",
    "\n",
    "class dog:\n",
    "    def __init__(self, name):\n",
    "        self.name = name\n",
    "    def display(self):\n",
    "        print(\"name of the dog is : \", self.name)\n",
    "d = dog(\"tommy\")\n",
    "def abc(a):\n",
    "    a.display()"
   ]
  },
  {
   "cell_type": "code",
   "execution_count": 19,
   "id": "a7592585",
   "metadata": {},
   "outputs": [
    {
     "name": "stdout",
     "output_type": "stream",
     "text": [
      "name of the cat is :  billi\n"
     ]
    }
   ],
   "source": [
    "abc(c)"
   ]
  },
  {
   "cell_type": "code",
   "execution_count": 20,
   "id": "4c5eb31a",
   "metadata": {},
   "outputs": [
    {
     "name": "stdout",
     "output_type": "stream",
     "text": [
      "name of the dog is :  tommy\n"
     ]
    }
   ],
   "source": [
    "abc(d)"
   ]
  },
  {
   "cell_type": "markdown",
   "id": "60f46e90",
   "metadata": {},
   "source": [
    "# Inheritance"
   ]
  },
  {
   "cell_type": "raw",
   "id": "a4e5ba58",
   "metadata": {},
   "source": [
    "single inheritance\n",
    "multiple inheritance\n",
    "multilevel inheritance\n",
    "Hybrid inheritance\n",
    "Hierachical inheritance"
   ]
  },
  {
   "cell_type": "markdown",
   "id": "43c5dee8",
   "metadata": {},
   "source": [
    "# single inheritance"
   ]
  },
  {
   "cell_type": "code",
   "execution_count": 21,
   "id": "c6789809",
   "metadata": {},
   "outputs": [],
   "source": [
    "class Employee:\n",
    "    def __init__(self, name, age):\n",
    "        self.name = name\n",
    "        self.age = age\n",
    "    def info(self):\n",
    "        print(\"employee name is :\", self.name)\n",
    "        print(\"age of employee is :\", self.age)"
   ]
  },
  {
   "cell_type": "code",
   "execution_count": 22,
   "id": "1501cda8",
   "metadata": {},
   "outputs": [],
   "source": [
    "e = Employee(\"john\", 34)"
   ]
  },
  {
   "cell_type": "code",
   "execution_count": 27,
   "id": "9713f0cf",
   "metadata": {},
   "outputs": [
    {
     "name": "stdout",
     "output_type": "stream",
     "text": [
      "employee name is : john\n",
      "age of employee is : 34\n"
     ]
    }
   ],
   "source": [
    "e.info()"
   ]
  },
  {
   "cell_type": "code",
   "execution_count": 35,
   "id": "b76ddeff",
   "metadata": {},
   "outputs": [
    {
     "name": "stdout",
     "output_type": "stream",
     "text": [
      "employee name is : abce\n",
      "age of employee is : 24\n",
      "role of employee:  manager\n",
      "salary of abce is 500000\n"
     ]
    }
   ],
   "source": [
    "class Trainer(Employee):\n",
    "    def __init__(self, name, age, role):\n",
    "        Employee.__init__(self, name, age)\n",
    "        self.role = role\n",
    "    def info(self):\n",
    "        Employee.info(self)\n",
    "        print(\"role of employee: \",self.role)\n",
    "        \n",
    "class Manager(Trainer):\n",
    "    def __init__(self, name, age, role, salary):\n",
    "        Trainer.__init__(self, name, age, role)\n",
    "        self.salary = salary\n",
    "    def info(self):\n",
    "        Trainer.info(self)\n",
    "        print(\"salary of\", self.name, \"is\", self.salary)\n",
    "\n",
    "m = Manager(\"abce\", 24, \"manager\", 500000)\n",
    "m.info()"
   ]
  },
  {
   "cell_type": "code",
   "execution_count": 33,
   "id": "5c4de32b",
   "metadata": {},
   "outputs": [],
   "source": [
    "t = Trainer(\"abc\", 34, \"Trainer\")"
   ]
  },
  {
   "cell_type": "code",
   "execution_count": 34,
   "id": "89c4f3b0",
   "metadata": {},
   "outputs": [
    {
     "name": "stdout",
     "output_type": "stream",
     "text": [
      "employee name is : abc\n",
      "age of employee is : 34\n",
      "role of employee:  Trainer\n"
     ]
    }
   ],
   "source": [
    "t.info()"
   ]
  },
  {
   "cell_type": "markdown",
   "id": "f0cfc91e",
   "metadata": {},
   "source": [
    "# multiple inheritance"
   ]
  },
  {
   "cell_type": "code",
   "execution_count": 36,
   "id": "dcd40125",
   "metadata": {},
   "outputs": [],
   "source": [
    "class Father:\n",
    "    def __init__(self, eyes, hair):\n",
    "        self.eyes = eyes\n",
    "        self.hair = hair\n",
    "    def info(self):\n",
    "        print(\"eyes of father is: \", self.eyes)\n",
    "        print(\"hair of father is: \",self.hair)"
   ]
  },
  {
   "cell_type": "code",
   "execution_count": 37,
   "id": "a8954e94",
   "metadata": {},
   "outputs": [],
   "source": [
    "class Mother:\n",
    "    def __init__(self, height):\n",
    "        self.height = height\n",
    "    def info(self):\n",
    "        print(\"height of mother is : \", self.height)"
   ]
  },
  {
   "cell_type": "code",
   "execution_count": 38,
   "id": "705d5d95",
   "metadata": {},
   "outputs": [],
   "source": [
    "m = Mother(\"170\")"
   ]
  },
  {
   "cell_type": "code",
   "execution_count": 39,
   "id": "d49d72b0",
   "metadata": {},
   "outputs": [
    {
     "name": "stdout",
     "output_type": "stream",
     "text": [
      "height of mother is :  170\n"
     ]
    }
   ],
   "source": [
    "m.info()"
   ]
  },
  {
   "cell_type": "code",
   "execution_count": 40,
   "id": "d26dc471",
   "metadata": {},
   "outputs": [],
   "source": [
    "class Son(Father, Mother):\n",
    "    def __init__(self, name, eyes, hair, height, talent):\n",
    "        Father.__init__(self, eyes, hair)\n",
    "        Mother.__init__(self, height)\n",
    "        self.name = name\n",
    "        self.talent = talent\n",
    "    def info(self):\n",
    "        Father.info(self)\n",
    "        Mother.info(self)\n",
    "        print(\"Iq level is :\", self.talent)"
   ]
  },
  {
   "cell_type": "code",
   "execution_count": 42,
   "id": "d4ebb7ec",
   "metadata": {},
   "outputs": [],
   "source": [
    "s = Son(\"abc\", \"brown\", \"curly\", \"tall\", 200)"
   ]
  },
  {
   "cell_type": "code",
   "execution_count": 43,
   "id": "aef4e927",
   "metadata": {},
   "outputs": [
    {
     "name": "stdout",
     "output_type": "stream",
     "text": [
      "eyes of father is:  brown\n",
      "hair of father is:  curly\n",
      "height of mother is :  tall\n",
      "Iq level is : 200\n"
     ]
    }
   ],
   "source": [
    "s.info()"
   ]
  },
  {
   "cell_type": "markdown",
   "id": "045b53c5",
   "metadata": {},
   "source": [
    "# Hierarchical inheritance"
   ]
  },
  {
   "cell_type": "code",
   "execution_count": 44,
   "id": "d0485047",
   "metadata": {},
   "outputs": [],
   "source": [
    "class Pet:\n",
    "    def __init__(self, name, pet_type):\n",
    "        self.pet_type = pet_type\n",
    "        self.name = name\n",
    "    def details(self):\n",
    "        print(\"i am a pet\")"
   ]
  },
  {
   "cell_type": "code",
   "execution_count": 50,
   "id": "4caf4ed2",
   "metadata": {},
   "outputs": [],
   "source": [
    "class Cat(Pet):\n",
    "    def __init__(self, pet_type, name, age):\n",
    "        Pet.__init__(self, pet_type, name)\n",
    "        self.age = age\n",
    "    def details(self):\n",
    "        print(\"i am\", self.pet_type)"
   ]
  },
  {
   "cell_type": "code",
   "execution_count": 51,
   "id": "130d13bc",
   "metadata": {},
   "outputs": [],
   "source": [
    "class dog(Pet):\n",
    "    def __init__(self, pet_type, name, bdate, breed):\n",
    "        Pet.__init__(self, pet_type, name)\n",
    "        self.bdate = bdate\n",
    "        self.breed = breed\n",
    "    def details(self):\n",
    "        print(\"i am\", self.name, \"and\", self.breed)"
   ]
  },
  {
   "cell_type": "code",
   "execution_count": 60,
   "id": "28d38e74",
   "metadata": {},
   "outputs": [
    {
     "name": "stdout",
     "output_type": "stream",
     "text": [
      "i am kitty\n"
     ]
    }
   ],
   "source": [
    "c = Cat('cat', 'kitty', 12)\n",
    "c.details()"
   ]
  },
  {
   "cell_type": "markdown",
   "id": "0b02e234",
   "metadata": {},
   "source": [
    "# Encapsulation"
   ]
  },
  {
   "cell_type": "code",
   "execution_count": 66,
   "id": "0ef32013",
   "metadata": {},
   "outputs": [],
   "source": [
    "class Bank:\n",
    "    def __init__(self, name, acc_no, balance):\n",
    "        self.name = name\n",
    "        self.acc_no = acc_no\n",
    "        self.__balance = balance\n",
    "    def info(self):\n",
    "        print(\"account name :\", self.name)\n",
    "        print(\"account no :\", self.acc_no)\n",
    "        print(\"account balance :\", self.__balance)\n",
    "    def deposite (self, amt):\n",
    "        self.__balance += amt\n",
    "    def withdraw(self, amt):\n",
    "        self.__balance -= amt\n",
    "    def updated_balance(self):\n",
    "        print(\"current balance\", self.__balance)"
   ]
  },
  {
   "cell_type": "code",
   "execution_count": 67,
   "id": "40713317",
   "metadata": {},
   "outputs": [],
   "source": [
    "b = Bank(\"john\", 1212, 1000)"
   ]
  },
  {
   "cell_type": "code",
   "execution_count": 68,
   "id": "383b4c6e",
   "metadata": {},
   "outputs": [
    {
     "name": "stdout",
     "output_type": "stream",
     "text": [
      "account name : john\n",
      "account no : 1212\n",
      "account balance : 1000\n"
     ]
    }
   ],
   "source": [
    "b.info()"
   ]
  },
  {
   "cell_type": "code",
   "execution_count": 69,
   "id": "9fd62688",
   "metadata": {},
   "outputs": [],
   "source": [
    "b.deposite(50)"
   ]
  },
  {
   "cell_type": "code",
   "execution_count": 70,
   "id": "ed87b8ca",
   "metadata": {},
   "outputs": [
    {
     "name": "stdout",
     "output_type": "stream",
     "text": [
      "account name : john\n",
      "account no : 1212\n",
      "account balance : 1050\n"
     ]
    }
   ],
   "source": [
    "b.info()"
   ]
  },
  {
   "cell_type": "markdown",
   "id": "6e3fe5d4",
   "metadata": {},
   "source": [
    "# Abstraction"
   ]
  },
  {
   "cell_type": "code",
   "execution_count": 71,
   "id": "674c1f4e",
   "metadata": {},
   "outputs": [],
   "source": [
    "from abc import ABC"
   ]
  },
  {
   "cell_type": "code",
   "execution_count": 72,
   "id": "2f86675f",
   "metadata": {},
   "outputs": [],
   "source": [
    "class Car(ABC):\n",
    "    def price(self):\n",
    "        pass"
   ]
  },
  {
   "cell_type": "code",
   "execution_count": 73,
   "id": "ef4bcd6c",
   "metadata": {},
   "outputs": [],
   "source": [
    "class Honda(Car):\n",
    "    def price(self):\n",
    "        print(\"price of bmw car if 10 lac\")\n",
    "        \n",
    "class Tata(Car):\n",
    "    def price(self):\n",
    "        print(\"price of bmw car if 10 lac\")\n",
    "        \n",
    "class Tesla(Car):\n",
    "    def price(self):\n",
    "        print(\"price of bmw car if 10 lac\")"
   ]
  },
  {
   "cell_type": "code",
   "execution_count": 74,
   "id": "4a237650",
   "metadata": {},
   "outputs": [],
   "source": [
    "h = Honda()"
   ]
  },
  {
   "cell_type": "code",
   "execution_count": 75,
   "id": "b18e87c3",
   "metadata": {},
   "outputs": [
    {
     "name": "stdout",
     "output_type": "stream",
     "text": [
      "price of bmw car if 10 lac\n"
     ]
    }
   ],
   "source": [
    "h.price()"
   ]
  },
  {
   "cell_type": "markdown",
   "id": "e000ffec",
   "metadata": {},
   "source": [
    "# Generator"
   ]
  },
  {
   "cell_type": "code",
   "execution_count": 76,
   "id": "61c8e762",
   "metadata": {},
   "outputs": [],
   "source": [
    "def test (n):\n",
    "    for i in range(n):\n",
    "        yield i**2"
   ]
  },
  {
   "cell_type": "code",
   "execution_count": 77,
   "id": "34e941c8",
   "metadata": {},
   "outputs": [
    {
     "data": {
      "text/plain": [
       "<generator object test at 0x00000142735E36B0>"
      ]
     },
     "execution_count": 77,
     "metadata": {},
     "output_type": "execute_result"
    }
   ],
   "source": [
    "test(6)"
   ]
  },
  {
   "cell_type": "code",
   "execution_count": 78,
   "id": "379d295c",
   "metadata": {},
   "outputs": [
    {
     "name": "stdout",
     "output_type": "stream",
     "text": [
      "0\n",
      "1\n",
      "4\n",
      "9\n",
      "16\n",
      "25\n"
     ]
    }
   ],
   "source": [
    "for i in test(6):\n",
    "    print(i)"
   ]
  },
  {
   "cell_type": "code",
   "execution_count": null,
   "id": "35a7ce6e",
   "metadata": {},
   "outputs": [],
   "source": []
  }
 ],
 "metadata": {
  "kernelspec": {
   "display_name": "Python 3 (ipykernel)",
   "language": "python",
   "name": "python3"
  },
  "language_info": {
   "codemirror_mode": {
    "name": "ipython",
    "version": 3
   },
   "file_extension": ".py",
   "mimetype": "text/x-python",
   "name": "python",
   "nbconvert_exporter": "python",
   "pygments_lexer": "ipython3",
   "version": "3.11.4"
  }
 },
 "nbformat": 4,
 "nbformat_minor": 5
}
