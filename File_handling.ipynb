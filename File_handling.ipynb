{
 "cells": [
  {
   "cell_type": "code",
   "execution_count": 1,
   "id": "a9dd7195",
   "metadata": {},
   "outputs": [],
   "source": [
    "l = [1, 2, 3, 4, 5]"
   ]
  },
  {
   "cell_type": "code",
   "execution_count": 2,
   "id": "53595281",
   "metadata": {},
   "outputs": [
    {
     "data": {
      "text/plain": [
       "[1, 2, 3, 4, 5, 1, 2, 3, 4, 5]"
      ]
     },
     "execution_count": 2,
     "metadata": {},
     "output_type": "execute_result"
    }
   ],
   "source": [
    "l *2"
   ]
  },
  {
   "cell_type": "code",
   "execution_count": 3,
   "id": "1de56964",
   "metadata": {},
   "outputs": [
    {
     "data": {
      "text/plain": [
       "[1, 2, 3, 4, 5]"
      ]
     },
     "execution_count": 3,
     "metadata": {},
     "output_type": "execute_result"
    }
   ],
   "source": [
    "l"
   ]
  },
  {
   "cell_type": "raw",
   "id": "de504f00",
   "metadata": {},
   "source": [
    "read - 'r'\n",
    "write - \"w\"\n",
    "append - 'a'\n",
    "create - 'x'"
   ]
  },
  {
   "cell_type": "raw",
   "id": "3ce5e450",
   "metadata": {},
   "source": [
    "(\"abc.txt\", 'r') - If available it will open or else i will get an error\n",
    "(\"abc.txt\", 'w') - If available it will open or else i will create a new file with this name\n",
    "(\"abc.txt\", 'a') - If available it will open or else i will a new file with this name\n",
    "(\"abc.txt\", 'x') - If available you get error else file created"
   ]
  },
  {
   "cell_type": "markdown",
   "id": "30a6af93",
   "metadata": {},
   "source": [
    "# read"
   ]
  },
  {
   "cell_type": "code",
   "execution_count": 4,
   "id": "9cf1f0a2",
   "metadata": {},
   "outputs": [],
   "source": [
    "f = open(\"abc.txt\", 'r')"
   ]
  },
  {
   "cell_type": "code",
   "execution_count": 5,
   "id": "fc660c34",
   "metadata": {},
   "outputs": [
    {
     "data": {
      "text/plain": [
       "<_io.TextIOWrapper name='abc.txt' mode='r' encoding='cp1252'>"
      ]
     },
     "execution_count": 5,
     "metadata": {},
     "output_type": "execute_result"
    }
   ],
   "source": [
    "f"
   ]
  },
  {
   "cell_type": "code",
   "execution_count": 6,
   "id": "d8196482",
   "metadata": {},
   "outputs": [],
   "source": [
    "f1 = open(\"abc1.txt\", 'w')"
   ]
  },
  {
   "cell_type": "code",
   "execution_count": 7,
   "id": "48e0c8a6",
   "metadata": {},
   "outputs": [],
   "source": [
    "f2 = open (\"abc2.txt\", 'x')"
   ]
  },
  {
   "cell_type": "code",
   "execution_count": 8,
   "id": "c8d42623",
   "metadata": {},
   "outputs": [
    {
     "data": {
      "text/plain": [
       "39"
      ]
     },
     "execution_count": 8,
     "metadata": {},
     "output_type": "execute_result"
    }
   ],
   "source": [
    "f1 = open(\"abc1.txt\", 'w')\n",
    "f1.write(\"this is my first file handling file abc\")"
   ]
  },
  {
   "cell_type": "code",
   "execution_count": 9,
   "id": "354a878d",
   "metadata": {},
   "outputs": [
    {
     "data": {
      "text/plain": [
       "20"
      ]
     },
     "execution_count": 9,
     "metadata": {},
     "output_type": "execute_result"
    }
   ],
   "source": [
    "f1 = open(\"abc1.txt\", 'w')\n",
    "f1.write(\"pyhton file handling\")"
   ]
  },
  {
   "cell_type": "code",
   "execution_count": 11,
   "id": "aaac7f7f",
   "metadata": {},
   "outputs": [],
   "source": [
    "f1 = open(\"abc2.txt\", 'r')"
   ]
  },
  {
   "cell_type": "code",
   "execution_count": 14,
   "id": "b772c8c8",
   "metadata": {},
   "outputs": [
    {
     "data": {
      "text/plain": [
       "<_io.TextIOWrapper name='abc2.txt' mode='r' encoding='cp1252'>"
      ]
     },
     "execution_count": 14,
     "metadata": {},
     "output_type": "execute_result"
    }
   ],
   "source": [
    "f1"
   ]
  },
  {
   "cell_type": "code",
   "execution_count": 19,
   "id": "f407038c",
   "metadata": {},
   "outputs": [
    {
     "data": {
      "text/plain": [
       "'this is abc2 text file\\n\\nl = [1, 2, 3, 4 ,5]'"
      ]
     },
     "execution_count": 19,
     "metadata": {},
     "output_type": "execute_result"
    }
   ],
   "source": [
    "f1.read()"
   ]
  },
  {
   "cell_type": "code",
   "execution_count": 20,
   "id": "f00332fd",
   "metadata": {},
   "outputs": [
    {
     "data": {
      "text/plain": [
       "24"
      ]
     },
     "execution_count": 20,
     "metadata": {},
     "output_type": "execute_result"
    }
   ],
   "source": [
    "f.seek(24)"
   ]
  },
  {
   "cell_type": "code",
   "execution_count": 21,
   "id": "d1b65e8c",
   "metadata": {},
   "outputs": [
    {
     "data": {
      "text/plain": [
       "24"
      ]
     },
     "execution_count": 21,
     "metadata": {},
     "output_type": "execute_result"
    }
   ],
   "source": [
    "f.tell()"
   ]
  },
  {
   "cell_type": "code",
   "execution_count": 22,
   "id": "88b1c3e3",
   "metadata": {},
   "outputs": [
    {
     "data": {
      "text/plain": [
       "[]"
      ]
     },
     "execution_count": 22,
     "metadata": {},
     "output_type": "execute_result"
    }
   ],
   "source": [
    "f1.readlines()"
   ]
  },
  {
   "cell_type": "code",
   "execution_count": null,
   "id": "715969d6",
   "metadata": {},
   "outputs": [],
   "source": []
  }
 ],
 "metadata": {
  "kernelspec": {
   "display_name": "Python 3 (ipykernel)",
   "language": "python",
   "name": "python3"
  },
  "language_info": {
   "codemirror_mode": {
    "name": "ipython",
    "version": 3
   },
   "file_extension": ".py",
   "mimetype": "text/x-python",
   "name": "python",
   "nbconvert_exporter": "python",
   "pygments_lexer": "ipython3",
   "version": "3.11.4"
  }
 },
 "nbformat": 4,
 "nbformat_minor": 5
}
