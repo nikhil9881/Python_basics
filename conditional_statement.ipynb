{
 "cells": [
  {
   "cell_type": "raw",
   "id": "b9808206",
   "metadata": {},
   "source": [
    "if, if else, elif"
   ]
  },
  {
   "cell_type": "raw",
   "id": "31f45b9d",
   "metadata": {},
   "source": [
    "if(condition):\n",
    "    code of execution"
   ]
  },
  {
   "cell_type": "code",
   "execution_count": 2,
   "id": "e5a2fe14",
   "metadata": {},
   "outputs": [],
   "source": [
    "a = 10"
   ]
  },
  {
   "cell_type": "code",
   "execution_count": 3,
   "id": "6d2db120",
   "metadata": {},
   "outputs": [
    {
     "name": "stdout",
     "output_type": "stream",
     "text": [
      "condition is true\n"
     ]
    }
   ],
   "source": [
    "if a > 5:\n",
    "    print(\"condition is true\")"
   ]
  },
  {
   "cell_type": "code",
   "execution_count": 4,
   "id": "3f7adaa6",
   "metadata": {},
   "outputs": [
    {
     "name": "stdout",
     "output_type": "stream",
     "text": [
      "condition is true\n"
     ]
    }
   ],
   "source": [
    "if a > 5:\n",
    "    print(\"condition is true\")\n",
    "else:\n",
    "    print(\"condition is flase\")"
   ]
  },
  {
   "cell_type": "code",
   "execution_count": 5,
   "id": "58e006d1",
   "metadata": {},
   "outputs": [
    {
     "name": "stdout",
     "output_type": "stream",
     "text": [
      "A is positive number\n"
     ]
    }
   ],
   "source": [
    "a = 12 \n",
    "if a>0:\n",
    "    print(\"A is positive number\")\n",
    "elif a == 0:\n",
    "    print(\"A is zero\")\n",
    "else:\n",
    "    print(\"A is negative number\")"
   ]
  },
  {
   "cell_type": "code",
   "execution_count": 6,
   "id": "8a3f5973",
   "metadata": {},
   "outputs": [
    {
     "name": "stdout",
     "output_type": "stream",
     "text": [
      "Enter your number: 12\n",
      "A is positive number\n"
     ]
    }
   ],
   "source": [
    "a = int(input(\"Enter your number: \")) \n",
    "if a>0:\n",
    "    print(\"A is positive number\")\n",
    "elif a == 0:\n",
    "    print(\"A is zero\")\n",
    "else:\n",
    "    print(\"A is negative number\")"
   ]
  },
  {
   "cell_type": "code",
   "execution_count": 7,
   "id": "efae615a",
   "metadata": {},
   "outputs": [
    {
     "name": "stdout",
     "output_type": "stream",
     "text": [
      "Enter any number: 11\n",
      "A is greater\n"
     ]
    }
   ],
   "source": [
    "a = int(input(\"Enter any number: \"))\n",
    "if a >= 0:\n",
    "    if a > 0:\n",
    "        print(\"A is greater\")\n",
    "    else:\n",
    "        print(\"A is smaller\")\n",
    "else:\n",
    "    print(\"A is negative\")"
   ]
  },
  {
   "cell_type": "raw",
   "id": "47178611",
   "metadata": {},
   "source": [
    "pass break continue"
   ]
  },
  {
   "cell_type": "markdown",
   "id": "52b39f3b",
   "metadata": {},
   "source": [
    "# loop statements"
   ]
  },
  {
   "cell_type": "code",
   "execution_count": 8,
   "id": "217fe2e0",
   "metadata": {},
   "outputs": [],
   "source": [
    "l = [10, 20, 30 ,40, 50, 60 , 70 , 80]"
   ]
  },
  {
   "cell_type": "raw",
   "id": "65f97967",
   "metadata": {},
   "source": [
    "for item in collection:\n",
    "    print(item)"
   ]
  },
  {
   "cell_type": "code",
   "execution_count": 9,
   "id": "b5e98ffc",
   "metadata": {},
   "outputs": [
    {
     "name": "stdout",
     "output_type": "stream",
     "text": [
      "10\n",
      "20\n",
      "30\n",
      "40\n",
      "50\n",
      "60\n",
      "70\n",
      "80\n"
     ]
    }
   ],
   "source": [
    "for i in l:\n",
    "    print(i)"
   ]
  },
  {
   "cell_type": "code",
   "execution_count": 10,
   "id": "143d092e",
   "metadata": {},
   "outputs": [
    {
     "name": "stdout",
     "output_type": "stream",
     "text": [
      "10\n",
      "20\n",
      "30\n",
      "40\n",
      "50\n"
     ]
    }
   ],
   "source": [
    "for i in l:\n",
    "    print(i)\n",
    "    if i == 50:\n",
    "        break"
   ]
  },
  {
   "cell_type": "code",
   "execution_count": 11,
   "id": "e8b79596",
   "metadata": {},
   "outputs": [
    {
     "name": "stdout",
     "output_type": "stream",
     "text": [
      "10\n",
      "20\n",
      "30\n",
      "40\n",
      "60\n",
      "70\n",
      "80\n"
     ]
    }
   ],
   "source": [
    "for i in l:\n",
    "    if i == 50:\n",
    "        continue\n",
    "    print(i)"
   ]
  },
  {
   "cell_type": "code",
   "execution_count": 12,
   "id": "1193a09f",
   "metadata": {},
   "outputs": [
    {
     "name": "stdout",
     "output_type": "stream",
     "text": [
      "50 51 52 53 54 55 56 57 58 59 60 61 62 63 64 65 66 67 68 69 "
     ]
    }
   ],
   "source": [
    "for i in range(50, 70):\n",
    "    print(i, end=\" \")"
   ]
  },
  {
   "cell_type": "code",
   "execution_count": 13,
   "id": "9fdf0c75",
   "metadata": {},
   "outputs": [
    {
     "name": "stdout",
     "output_type": "stream",
     "text": [
      "50 52 54 56 58 60 62 64 66 68 "
     ]
    }
   ],
   "source": [
    "for i in range(50, 70, 2):\n",
    "    print(i, end = \" \")"
   ]
  },
  {
   "cell_type": "code",
   "execution_count": 14,
   "id": "a61ed4d0",
   "metadata": {},
   "outputs": [
    {
     "name": "stdout",
     "output_type": "stream",
     "text": [
      "Enter any number : 10\n",
      "10 x 1 = 10\n",
      "10 x 2 = 20\n",
      "10 x 3 = 30\n",
      "10 x 4 = 40\n",
      "10 x 5 = 50\n",
      "10 x 6 = 60\n",
      "10 x 7 = 70\n",
      "10 x 8 = 80\n",
      "10 x 9 = 90\n",
      "10 x 10 = 100\n"
     ]
    }
   ],
   "source": [
    "s = int(input(\"Enter any number : \"))\n",
    "for i in range(1, 11):\n",
    "    print(s, \"x\", i, \"=\", i*s)"
   ]
  },
  {
   "cell_type": "raw",
   "id": "1da1d3a8",
   "metadata": {},
   "source": [
    "initilization\n",
    "while(condition):\n",
    "    execution\n",
    "    increment/decrement"
   ]
  },
  {
   "cell_type": "code",
   "execution_count": 15,
   "id": "00071ee1",
   "metadata": {},
   "outputs": [
    {
     "name": "stdout",
     "output_type": "stream",
     "text": [
      "1\n",
      "2\n",
      "3\n",
      "4\n",
      "5\n",
      "6\n",
      "7\n",
      "8\n",
      "9\n",
      "10\n",
      "11\n"
     ]
    }
   ],
   "source": [
    "i = 0\n",
    "while i <= 10 :\n",
    "   #print(i)\n",
    "    i+=1\n",
    "    print(i)"
   ]
  },
  {
   "cell_type": "code",
   "execution_count": 16,
   "id": "3c169920",
   "metadata": {},
   "outputs": [
    {
     "name": "stdout",
     "output_type": "stream",
     "text": [
      "0\n",
      "1\n",
      "2\n",
      "3\n",
      "4\n"
     ]
    }
   ],
   "source": [
    "i = 0\n",
    "while i <= 10 :\n",
    "    print(i)\n",
    "    i+=1\n",
    "    if i == 5:\n",
    "        break"
   ]
  },
  {
   "cell_type": "code",
   "execution_count": 17,
   "id": "1c4d63c3",
   "metadata": {},
   "outputs": [
    {
     "name": "stdout",
     "output_type": "stream",
     "text": [
      "10\n",
      "20\n",
      "30\n",
      "40\n",
      "50\n",
      "60\n",
      "70\n",
      "80\n"
     ]
    }
   ],
   "source": [
    "i = 0 \n",
    "while i < len(l):\n",
    "    print(l[i])\n",
    "    i += 1"
   ]
  },
  {
   "cell_type": "code",
   "execution_count": 19,
   "id": "4edc1f1b",
   "metadata": {},
   "outputs": [
    {
     "name": "stdout",
     "output_type": "stream",
     "text": [
      "80\n",
      "70\n",
      "60\n",
      "50\n",
      "40\n",
      "30\n",
      "20\n",
      "10\n"
     ]
    }
   ],
   "source": [
    "i = -1 \n",
    "while i >= -len(l):\n",
    "    print(l[i])\n",
    "    i -= 1"
   ]
  },
  {
   "cell_type": "code",
   "execution_count": null,
   "id": "6a55e64c",
   "metadata": {},
   "outputs": [],
   "source": []
  }
 ],
 "metadata": {
  "kernelspec": {
   "display_name": "Python 3 (ipykernel)",
   "language": "python",
   "name": "python3"
  },
  "language_info": {
   "codemirror_mode": {
    "name": "ipython",
    "version": 3
   },
   "file_extension": ".py",
   "mimetype": "text/x-python",
   "name": "python",
   "nbconvert_exporter": "python",
   "pygments_lexer": "ipython3",
   "version": "3.11.4"
  }
 },
 "nbformat": 4,
 "nbformat_minor": 5
}
